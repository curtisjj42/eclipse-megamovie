{
 "cells": [
  {
   "cell_type": "code",
   "execution_count": 1,
   "id": "initial_id",
   "metadata": {
    "collapsed": true,
    "ExecuteTime": {
     "end_time": "2024-11-12T21:26:54.352812100Z",
     "start_time": "2024-11-12T21:26:52.157550100Z"
    }
   },
   "outputs": [],
   "source": [
    "import tensorflow as tf\n",
    "import json\n",
    "\n",
    "with open('label_num_to_phase_map.json', 'r') as f:\n",
    "    label_mapping = json.load(f)\n",
    "label_mapping = {int(v): k for k, v in label_mapping.items()}"
   ]
  },
  {
   "cell_type": "code",
   "outputs": [],
   "source": [
    "import pandas as pd\n",
    "import os\n",
    "\n",
    "train_df = pd.read_csv('train.csv')\n",
    "\n",
    "train_df['image_path'] = train_df['image_id'].apply(lambda x: os.path.join('train', x))"
   ],
   "metadata": {
    "collapsed": false
   },
   "id": "7ce4cf98005bf28f"
  }
 ],
 "metadata": {
  "kernelspec": {
   "display_name": "Python 3",
   "language": "python",
   "name": "python3"
  },
  "language_info": {
   "codemirror_mode": {
    "name": "ipython",
    "version": 2
   },
   "file_extension": ".py",
   "mimetype": "text/x-python",
   "name": "python",
   "nbconvert_exporter": "python",
   "pygments_lexer": "ipython2",
   "version": "2.7.6"
  }
 },
 "nbformat": 4,
 "nbformat_minor": 5
}
